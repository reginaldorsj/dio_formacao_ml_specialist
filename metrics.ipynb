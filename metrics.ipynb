{
 "cells": [
  {
   "cell_type": "markdown",
   "id": "0707169a",
   "metadata": {},
   "source": [
    "### Imports and Configurations"
   ]
  },
  {
   "cell_type": "code",
   "execution_count": 16,
   "id": "6ea9da0b",
   "metadata": {},
   "outputs": [],
   "source": [
    "import numpy as np\n",
    "\n",
    "from sklearn.metrics import f1_score, accuracy_score, classification_report, confusion_matrix, ConfusionMatrixDisplay"
   ]
  },
  {
   "cell_type": "markdown",
   "id": "dd972f95",
   "metadata": {},
   "source": [
    "### Data"
   ]
  },
  {
   "cell_type": "code",
   "execution_count": 17,
   "id": "d6a3de24",
   "metadata": {},
   "outputs": [
    {
     "data": {
      "text/plain": [
       "array([[33,  0,  0,  0,  0,  0,  0,  0,  0,  0],\n",
       "       [ 0, 28,  0,  0,  0,  0,  0,  0,  0,  0],\n",
       "       [ 0,  0, 33,  0,  0,  0,  0,  0,  0,  0],\n",
       "       [ 0,  0,  0, 34,  0,  0,  0,  0,  0,  0],\n",
       "       [ 0,  0,  0,  0, 46,  0,  0,  0,  0,  0],\n",
       "       [ 0,  0,  0,  0,  0, 46,  1,  0,  0,  0],\n",
       "       [ 0,  0,  0,  0,  0,  0, 35,  0,  0,  0],\n",
       "       [ 0,  0,  0,  0,  0,  0,  0, 33,  0,  1],\n",
       "       [ 0,  2,  0,  0,  0,  0,  0,  0, 28,  0],\n",
       "       [ 0,  0,  0,  0,  1,  1,  0,  0,  0, 38]])"
      ]
     },
     "execution_count": 17,
     "metadata": {},
     "output_type": "execute_result"
    }
   ],
   "source": [
    "cm = np.array([[33,  0,  0,  0,  0,  0,  0,  0,  0,  0],\n",
    "       [ 0, 28,  0,  0,  0,  0,  0,  0,  0,  0],\n",
    "       [ 0,  0, 33,  0,  0,  0,  0,  0,  0,  0],\n",
    "       [ 0,  0,  0, 34,  0,  0,  0,  0,  0,  0],\n",
    "       [ 0,  0,  0,  0, 46,  0,  0,  0,  0,  0],\n",
    "       [ 0,  0,  0,  0,  0, 46,  1,  0,  0,  0],\n",
    "       [ 0,  0,  0,  0,  0,  0, 35,  0,  0,  0],\n",
    "       [ 0,  0,  0,  0,  0,  0,  0, 33,  0,  1],\n",
    "       [ 0,  2,  0,  0,  0,  0,  0,  0, 28,  0],\n",
    "       [ 0,  0,  0,  0,  1,  1,  0,  0,  0, 38]])\n",
    "cm"
   ]
  },
  {
   "cell_type": "code",
   "execution_count": 18,
   "id": "633cfdd4",
   "metadata": {},
   "outputs": [
    {
     "data": {
      "text/plain": [
       "<sklearn.metrics._plot.confusion_matrix.ConfusionMatrixDisplay at 0x26c05190880>"
      ]
     },
     "execution_count": 18,
     "metadata": {},
     "output_type": "execute_result"
    },
    {
     "data": {
      "image/png": "[encoded data removed]",
      "text/plain": [
       "<Figure size 640x480 with 2 Axes>"
      ]
     },
     "metadata": {},
     "output_type": "display_data"
    }
   ],
   "source": [
    "ConfusionMatrixDisplay(confusion_matrix=cm).plot()"
   ]
  },
  {
   "cell_type": "markdown",
   "id": "54d28c39",
   "metadata": {},
   "source": [
    "### Calcs"
   ]
  },
  {
   "cell_type": "code",
   "execution_count": 19,
   "id": "c9f95372",
   "metadata": {},
   "outputs": [
    {
     "name": "stdout",
     "output_type": "stream",
     "text": [
      "Classe 0 - Sensibilidade: 1.00, Especificidade: 1.00, Acurácia: 1.00, Precisão: 1.00, F1-score: 1.00\n",
      "Classe 1 - Sensibilidade: 1.00, Especificidade: 0.99, Acurácia: 0.99, Precisão: 0.93, F1-score: 0.97\n",
      "Classe 2 - Sensibilidade: 1.00, Especificidade: 1.00, Acurácia: 1.00, Precisão: 1.00, F1-score: 1.00\n",
      "Classe 3 - Sensibilidade: 1.00, Especificidade: 1.00, Acurácia: 1.00, Precisão: 1.00, F1-score: 1.00\n",
      "Classe 4 - Sensibilidade: 1.00, Especificidade: 1.00, Acurácia: 1.00, Precisão: 0.98, F1-score: 0.99\n",
      "Classe 5 - Sensibilidade: 0.98, Especificidade: 1.00, Acurácia: 0.99, Precisão: 0.98, F1-score: 0.98\n",
      "Classe 6 - Sensibilidade: 1.00, Especificidade: 1.00, Acurácia: 1.00, Precisão: 0.97, F1-score: 0.99\n",
      "Classe 7 - Sensibilidade: 0.97, Especificidade: 1.00, Acurácia: 1.00, Precisão: 1.00, F1-score: 0.99\n",
      "Classe 8 - Sensibilidade: 0.93, Especificidade: 1.00, Acurácia: 0.99, Precisão: 1.00, F1-score: 0.97\n",
      "Classe 9 - Sensibilidade: 0.95, Especificidade: 1.00, Acurácia: 0.99, Precisão: 0.97, F1-score: 0.96\n"
     ]
    }
   ],
   "source": [
    "# Calculando métricas\n",
    "TP = np.diag(cm)  # Verdadeiros positivos\n",
    "FP = np.sum(cm, axis=0) - TP  # Falsos positivos\n",
    "FN = np.sum(cm, axis=1) - TP  # Falsos negativos\n",
    "TN = np.sum(cm) - (TP + FP + FN)  # Verdadeiros negativos\n",
    "\n",
    "# Sensibilidade (Recall)\n",
    "sensibilidade = TP / (TP + FN)\n",
    "\n",
    "# Especificidade\n",
    "especificidade = TN / (TN + FP)\n",
    "\n",
    "# Acurácia\n",
    "acuracia = (TP + TN) / np.sum(cm)\n",
    "\n",
    "# Precisão\n",
    "precisao = TP / (TP + FP)\n",
    "\n",
    "# F1-score\n",
    "f1_score = 2 * (precisao * sensibilidade) / (precisao + sensibilidade)\n",
    "\n",
    "# Exibindo resultados\n",
    "for i in range(10):\n",
    "    print(f\"Classe {i} - Sensibilidade: {sensibilidade[i]:.2f}, Especificidade: {especificidade[i]:.2f}, \"\n",
    "          f\"Acurácia: {acuracia[i]:.2f}, Precisão: {precisao[i]:.2f}, F1-score: {f1_score[i]:.2f}\")\n"
   ]
  },
  {
   "cell_type": "code",
   "execution_count": 20,
   "id": "6947de3a",
   "metadata": {},
   "outputs": [
    {
     "name": "stdout",
     "output_type": "stream",
     "text": [
      "Sensibilidade Geral: 0.98, Especificidade Geral: -6.00, Acurácia Geral: 0.97, Precisão Geral: 0.98, F1-score Geral: 0.98\n"
     ]
    }
   ],
   "source": [
    "# Calculando métricas gerais\n",
    "TP = np.diag(cm).sum()  # Soma dos verdadeiros positivos\n",
    "FP = (np.sum(cm, axis=0) - np.diag(cm)).sum()  # Soma dos falsos positivos\n",
    "FN = (np.sum(cm, axis=1) - np.diag(cm)).sum()  # Soma dos falsos negativos\n",
    "TN = (np.sum(cm) - (TP + FP + FN))  # Soma dos verdadeiros negativos\n",
    "\n",
    "# Sensibilidade (Recall) geral\n",
    "sensibilidade = TP / (TP + FN)\n",
    "\n",
    "# Especificidade geral\n",
    "TNFP=TN + FP\n",
    "if TNFP==0:\n",
    "    TNFP=1\n",
    "especificidade = TN / (TNFP)\n",
    "\n",
    "# Acurácia geral\n",
    "acuracia = (TP + TN) / np.sum(cm)\n",
    "\n",
    "# Precisão geral\n",
    "precisao = TP / (TP + FP)\n",
    "\n",
    "# F1-score geral\n",
    "f1_score = 2 * (precisao * sensibilidade) / (precisao + sensibilidade)\n",
    "\n",
    "# Exibindo resultados gerais\n",
    "print(f\"Sensibilidade Geral: {sensibilidade:.2f}, Especificidade Geral: {especificidade:.2f}, \"\n",
    "      f\"Acurácia Geral: {acuracia:.2f}, Precisão Geral: {precisao:.2f}, F1-score Geral: {f1_score:.2f}\")\n"
   ]
  }
 ],
 "metadata": {
  "kernelspec": {
   "display_name": "Python 3 (ipykernel)",
   "language": "python",
   "name": "python3"
  },
  "language_info": {
   "codemirror_mode": {
    "name": "ipython",
    "version": 3
   },
   "file_extension": ".py",
   "mimetype": "text/x-python",
   "name": "python",
   "nbconvert_exporter": "python",
   "pygments_lexer": "ipython3",
   "version": "3.9.13"
  }
 },
 "nbformat": 4,
 "nbformat_minor": 5
}
