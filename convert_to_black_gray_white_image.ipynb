{
 "cells": [
  {
   "cell_type": "markdown",
   "id": "0d345be6",
   "metadata": {},
   "source": [
    "### Imports and Configurations"
   ]
  },
  {
   "cell_type": "code",
   "execution_count": 3,
   "id": "0b4d2ba0",
   "metadata": {},
   "outputs": [],
   "source": [
    "from PIL import Image"
   ]
  },
  {
   "cell_type": "markdown",
   "id": "157d17aa",
   "metadata": {},
   "source": [
    "### Convert Functions"
   ]
  },
  {
   "cell_type": "code",
   "execution_count": 10,
   "id": "0bb0a258",
   "metadata": {},
   "outputs": [],
   "source": [
    "def convert_to_black_and_white(imagem, limite=128):\n",
    "    largura, altura = imagem.size\n",
    "    bw_image = Image.new(\"1\", (largura, altura))\n",
    "\n",
    "    for x in range(largura):\n",
    "        for y in range(altura):\n",
    "            pixel_colorido = imagem.getpixel((x, y))\n",
    "            intensidade = int(0.299 * pixel_colorido[0] + 0.587 * pixel_colorido[1] + 0.114 * pixel_colorido[2])\n",
    "            if intensidade >= limite:\n",
    "                bw_image.putpixel((x, y), 1)\n",
    "            else:\n",
    "                bw_image.putpixel((x, y), 0)\n",
    "    return bw_image                \n",
    "\n",
    "def convert_to_gray_scale(imagem):\n",
    "    largura, altura = imagem.size\n",
    "    gray_image = Image.new(\"L\", (largura, altura))\n",
    "\n",
    "    for x in range(largura):\n",
    "        for y in range(altura):\n",
    "            pixel_colorido = imagem.getpixel((x, y))\n",
    "            intensidade = int(0.299 * pixel_colorido[0] + 0.587 * pixel_colorido[1] + 0.114 * pixel_colorido[2])\n",
    "            gray_image.putpixel((x, y), intensidade)\n",
    "\n",
    "    return gray_image"
   ]
  },
  {
   "cell_type": "code",
   "execution_count": 11,
   "id": "fd1b92f3",
   "metadata": {},
   "outputs": [],
   "source": [
    "color_image = Image.open(\"color_image.jpg\")\n",
    "\n",
    "gray_image=convert_to_gray_scale(color_image)\n",
    "gray_image.save(\"gray_image.jpg\")\n",
    "gray_image.show()\n",
    "\n",
    "bw_image=convert_to_black_and_white(color_image)\n",
    "bw_image.save(\"bw_image.jpg\")\n",
    "bw_image.show()"
   ]
  },
  {
   "cell_type": "code",
   "execution_count": null,
   "id": "05eec2ed",
   "metadata": {},
   "outputs": [],
   "source": []
  }
 ],
 "metadata": {
  "kernelspec": {
   "display_name": "Python 3 (ipykernel)",
   "language": "python",
   "name": "python3"
  },
  "language_info": {
   "codemirror_mode": {
    "name": "ipython",
    "version": 3
   },
   "file_extension": ".py",
   "mimetype": "text/x-python",
   "name": "python",
   "nbconvert_exporter": "python",
   "pygments_lexer": "ipython3",
   "version": "3.11.4"
  }
 },
 "nbformat": 4,
 "nbformat_minor": 5
}
