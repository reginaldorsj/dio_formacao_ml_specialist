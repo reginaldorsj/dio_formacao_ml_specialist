{
 "cells": [
  {
   "cell_type": "code",
   "execution_count": 7,
   "id": "99b49008",
   "metadata": {},
   "outputs": [],
   "source": [
    "from gtts import gTTS\n",
    "import os\n",
    "import speech_recognition as sr"
   ]
  },
  {
   "cell_type": "code",
   "execution_count": 5,
   "id": "0bffec58",
   "metadata": {},
   "outputs": [],
   "source": [
    "# Texto que você deseja converter em áudio\n",
    "texto = \"Hi. This is an example of text conveted in audio.\"\n",
    "\n",
    "# Crie um objeto gTTS\n",
    "tts = gTTS(texto, lang='en-us')  # 'pt-br' é o código do idioma (português do Brasil)\n",
    "\n",
    "# Salve o áudio em um arquivo\n",
    "tts.save(\"audio.mp3\")\n",
    "\n",
    "# Reproduza o áudio (depende do seu sistema operacional)\n",
    "if os.name == 'posix':  # Para sistemas baseados em Unix/Linux, como Linux e macOS\n",
    "    os.system(\"mpg123 audio.mp3\")\n",
    "elif os.name == 'nt':  # Para Windows\n",
    "    os.system(\"start audio.mp3\")"
   ]
  },
  {
   "cell_type": "code",
   "execution_count": 10,
   "id": "97490de9",
   "metadata": {},
   "outputs": [
    {
     "name": "stdout",
     "output_type": "stream",
     "text": [
      "Texto reconhecido: contacting us all lines are currently busy your call is very important to us\n"
     ]
    }
   ],
   "source": [
    "# Inicialize o reconhecedor de fala\n",
    "recognizer = sr.Recognizer()\n",
    "\n",
    "# Carregue o arquivo de áudio\n",
    "audio_file = \"voice1.wav\"\n",
    "\n",
    "# Abra o arquivo de áudio usando o reconhecedor\n",
    "with sr.AudioFile(audio_file) as source:\n",
    "    # Ajuste o ruído de fundo para reduzir erros de reconhecimento\n",
    "    recognizer.adjust_for_ambient_noise(source)\n",
    "\n",
    "    # Faça o reconhecimento de fala\n",
    "    try:\n",
    "        audio_data = recognizer.record(source)  # Grave o áudio do arquivo\n",
    "        text = recognizer.recognize_google(audio_data, language=\"en-US\")  # Reconheça a fala e especifique o idioma\n",
    "        print(\"Texto reconhecido: \" + text)\n",
    "    except sr.UnknownValueError:\n",
    "        print(\"Não foi possível reconhecer a fala\")\n",
    "    except sr.RequestError as e:\n",
    "        print(\"Erro durante a solicitação ao serviço de reconhecimento de fala: {0}\".format(e))\n"
   ]
  },
  {
   "cell_type": "code",
   "execution_count": null,
   "id": "b7ad7267",
   "metadata": {},
   "outputs": [],
   "source": []
  }
 ],
 "metadata": {
  "kernelspec": {
   "display_name": "Python 3 (ipykernel)",
   "language": "python",
   "name": "python3"
  },
  "language_info": {
   "codemirror_mode": {
    "name": "ipython",
    "version": 3
   },
   "file_extension": ".py",
   "mimetype": "text/x-python",
   "name": "python",
   "nbconvert_exporter": "python",
   "pygments_lexer": "ipython3",
   "version": "3.11.4"
  }
 },
 "nbformat": 4,
 "nbformat_minor": 5
}
